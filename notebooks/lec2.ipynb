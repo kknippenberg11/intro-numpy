{
 "cells": [
  {
   "cell_type": "markdown",
   "metadata": {},
   "source": [
    "# Lecture 2"
   ]
  },
  {
   "cell_type": "code",
   "execution_count": 1,
   "metadata": {
    "trusted": true
   },
   "outputs": [
    {
     "name": "stdout",
     "output_type": "stream",
     "text": [
      "Check versions:\n",
      "  numpy version     :'2.0.2'\n",
      "  matplotlib version:'3.9.4'\n"
     ]
    }
   ],
   "source": [
    "%run set_env.py\n",
    "%matplotlib inline"
   ]
  },
  {
   "cell_type": "markdown",
   "metadata": {},
   "source": [
    "## Array attributes"
   ]
  },
  {
   "cell_type": "markdown",
   "metadata": {},
   "source": [
    "<font color=\"green\"><b>ndarray</b></font> is the NumPy base/super class.<br>\n",
    "The ndarray class has several fields/methods.<br>\n",
    "Among them:\n",
    "* dtype: type of the (homogeneous) elements\n",
    "* ndim : number of axes in the array (dimensionality (#axes))\n",
    "* shape: dimensions of the array (<font color=\"green\"><b>tuple [immutable object] of ints</b></font>)\n",
    "* size : #elements in the array\n",
    "* itemsize: memory occupied by 1 element\n",
    "* nbytes  : total #bytes consumed by the elements of the array\n",
    "* strides : strides of data in memory\n",
    "* flags   : <b>dictionary</b> containing info on memory use.\n",
    "* T       : transpose of the ndarray"
   ]
  },
  {
   "cell_type": "code",
   "execution_count": 2,
   "metadata": {
    "trusted": true
   },
   "outputs": [
    {
     "name": "stdout",
     "output_type": "stream",
     "text": [
      "a := np.arange(20).reshape((4,5)) :\n",
      "[[ 0  1  2  3  4]\n",
      " [ 5  6  7  8  9]\n",
      " [10 11 12 13 14]\n",
      " [15 16 17 18 19]]\n",
      "\n",
      "  type(a) :'<class 'numpy.ndarray'>'\n",
      "  a.dtype:'int64'\n",
      "  a.ndim:'2'\n",
      "  a.shape:'(4, 5)'\n",
      "  a.size:'20'\n",
      "  a.itemsize:'8'\n",
      "  a.nbytes:'160'\n",
      "  a.strides:'(40, 8)'\n",
      "\n",
      "  a.real   :\n",
      "[[ 0  1  2  3  4]\n",
      " [ 5  6  7  8  9]\n",
      " [10 11 12 13 14]\n",
      " [15 16 17 18 19]]\n",
      "\n",
      "  a.imag   :\n",
      "[[0 0 0 0 0]\n",
      " [0 0 0 0 0]\n",
      " [0 0 0 0 0]\n",
      " [0 0 0 0 0]]\n",
      "\n",
      "  a.flags:\n",
      "  C_CONTIGUOUS : True\n",
      "  F_CONTIGUOUS : False\n",
      "  OWNDATA : False\n",
      "  WRITEABLE : True\n",
      "  ALIGNED : True\n",
      "  WRITEBACKIFCOPY : False\n",
      "\n",
      "  a.T:\n",
      "[[ 0  5 10 15]\n",
      " [ 1  6 11 16]\n",
      " [ 2  7 12 17]\n",
      " [ 3  8 13 18]\n",
      " [ 4  9 14 19]]\n"
     ]
    }
   ],
   "source": [
    "# arange(20) -> Linux x86_64: 'int64'\n",
    "a=np.arange(20).reshape(4,5)\n",
    "print(f\"a := np.arange(20).reshape((4,5)) :\\n{a}\\n\")\n",
    "print(f\"  type(a) :'{type(a)}'\")\n",
    "print(f\"  a.dtype:'{a.dtype}'\")\n",
    "print(f\"  a.ndim:'{a.ndim}'\")\n",
    "print(f\"  a.shape:'{a.shape}'\")\n",
    "print(f\"  a.size:'{a.size}'\")\n",
    "print(f\"  a.itemsize:'{a.itemsize}'\")\n",
    "print(f\"  a.nbytes:'{a.nbytes}'\")\n",
    "print(f\"  a.strides:'{a.strides}'\\n\")\n",
    "print(f\"  a.real   :\\n{a.real}\\n\")\n",
    "print(f\"  a.imag   :\\n{a.imag}\\n\")\n",
    "print(f\"  a.flags:\\n{a.flags}\")\n",
    "print(f\"  a.T:\\n{a.T}\")"
   ]
  },
  {
   "cell_type": "markdown",
   "metadata": {},
   "source": [
    "<b>Notice</b> the fundamental difference!"
   ]
  },
  {
   "cell_type": "code",
   "execution_count": 3,
   "metadata": {
    "trusted": true
   },
   "outputs": [
    {
     "name": "stdout",
     "output_type": "stream",
     "text": [
      "a := np.arange(20).reshape((4,5)) :\n",
      "[[ 0  1  2  3  4]\n",
      " [ 5  6  7  8  9]\n",
      " [10 11 12 13 14]\n",
      " [15 16 17 18 19]]\n",
      "\n",
      "b :=b np.arange(20.).reshape((4,5)) :\n",
      "[[ 0.  1.  2.  3.  4.]\n",
      " [ 5.  6.  7.  8.  9.]\n",
      " [10. 11. 12. 13. 14.]\n",
      " [15. 16. 17. 18. 19.]]\n",
      "\n",
      "  type(a) :'<class 'numpy.ndarray'>'\n",
      "  type(b) :'<class 'numpy.ndarray'>'\n"
     ]
    }
   ],
   "source": [
    "a = np.arange(20).reshape(4,5) #integer, vs \n",
    "b = np.arange(20.).reshape(4,5) #float \n",
    "\n",
    "print(f\"a := np.arange(20).reshape((4,5)) :\\n{a}\\n\")\n",
    "print(f\"b :=b np.arange(20.).reshape((4,5)) :\\n{b}\\n\")\n",
    "print(f\"  type(a) :'{type(a)}'\")\n",
    "print(f\"  type(b) :'{type(b)}'\")"
   ]
  },
  {
   "cell_type": "code",
   "execution_count": 5,
   "metadata": {
    "trusted": true
   },
   "outputs": [
    {
     "name": "stdout",
     "output_type": "stream",
     "text": [
      "  a.ndim:'2'\n",
      "  b.ndim:'2'\n",
      "  a.shape:'(4, 5)'\n",
      "  b.shape:'(4, 5)'\n",
      "  a.size:'20'\n",
      "  b.size:'20'\n",
      "  a.dtype:'int64'\n",
      "  b.dtype:'float64'\n",
      "  a.itemsize:'8'\n",
      "  b.itemsize:'8'\n",
      "  a.nbytes:'160'\n",
      "  b.nbytes:'160'\n"
     ]
    }
   ],
   "source": [
    "print(f\"  a.ndim:'{a.ndim}'\")\n",
    "print(f\"  b.ndim:'{b.ndim}'\")\n",
    "print(f\"  a.shape:'{a.shape}'\")\n",
    "print(f\"  b.shape:'{b.shape}'\")\n",
    "print(f\"  a.size:'{a.size}'\")\n",
    "print(f\"  b.size:'{b.size}'\")\n",
    "print(f\"  a.dtype:'{a.dtype}'\") #here's the difference\n",
    "print(f\"  b.dtype:'{b.dtype}'\") #here's the difference\n",
    "print(f\"  a.itemsize:'{a.itemsize}'\")\n",
    "print(f\"  b.itemsize:'{b.itemsize}'\")\n",
    "print(f\"  a.nbytes:'{a.nbytes}'\")\n",
    "print(f\"  b.nbytes:'{b.nbytes}'\")"
   ]
  },
  {
   "cell_type": "markdown",
   "metadata": {},
   "source": [
    "## Create specific arrays (types & content)"
   ]
  },
  {
   "cell_type": "markdown",
   "metadata": {},
   "source": [
    "### Data Types"
   ]
  },
  {
   "cell_type": "markdown",
   "metadata": {},
   "source": [
    "Numpy support several <font color=\"green\"><b>native data types</b></font> e.g.:\n",
    "* bool\n",
    "* [u]int8, [u]int16/[u]short, [u]int32, [u]int64/[u]long. \"u\" means signed vs unsigned, or only positive numbers. The low numbers had been largely discarded, but are back in use to make AI run faster, so that you can use crude/simple numbers to do simple stuff and reserve the finer/higher types to do more complex stuff.\n",
    "* float16/half, float32/single, float64/double, float128/longdouble\n",
    "* complex64/csingle, complex128/cdouble, complex256/clongdouble\n",
    "* datetime64, timedelta64, object, str\n",
    "\n",
    "More info: <br>[https://numpy.org/doc/stable/reference/arrays.dtypes.html#arrays-dtypes](https://numpy.org/doc/stable/reference/arrays.dtypes.html#arrays-dtypes)"
   ]
  },
  {
   "cell_type": "code",
   "execution_count": 10,
   "metadata": {
    "trusted": true
   },
   "outputs": [
    {
     "name": "stdout",
     "output_type": "stream",
     "text": [
      "i1 := np.arange(10,dtype='int32'):\n",
      "  [0 1 2 3 4 5 6 7 8 9]\n",
      "  i1.dtype:'int32'\n",
      "  i1.size :'10'\n",
      "  i1.itemsize:'4'\n",
      "  i1.nbytes:'40'\n",
      "\n",
      "z1 := np.arange(10,dtype='complex128'):\n",
      "  [0.+0.j 1.+0.j 2.+0.j 3.+0.j 4.+0.j 5.+0.j 6.+0.j 7.+0.j 8.+0.j 9.+0.j]\n",
      "\n",
      "  z1.dtype:'complex128'\n",
      "  z1.size :'10'\n",
      "  z1.itemsize:'16'\n",
      "  z1.nbytes:'160'\n"
     ]
    }
   ],
   "source": [
    "# Create arrays of a certain data type\n",
    "i1=np.arange(10,dtype=np.int32) #int32 means each integer is an element of 4 bytes\n",
    "print(f\"i1 := np.arange(10,dtype='int32'):\\n  {i1}\")\n",
    "print(f\"  i1.dtype:'{i1.dtype}'\")\n",
    "print(f\"  i1.size :'{i1.size}'\")\n",
    "print(f\"  i1.itemsize:'{i1.itemsize}'\")\n",
    "print(f\"  i1.nbytes:'{i1.nbytes}'\")\n",
    "\n",
    "z1=np.arange(10,dtype='complex128')\n",
    "print(f\"\\nz1 := np.arange(10,dtype='complex128'):\\n  {z1}\\n\") #complex128 means each number is an element with 16 bytes, but why is it represented with +0.j? It's complex double-precision ... \n",
    "print(f\"  z1.dtype:'{z1.dtype}'\")\n",
    "print(f\"  z1.size :'{z1.size}'\")\n",
    "print(f\"  z1.itemsize:'{z1.itemsize}'\")\n",
    "print(f\"  z1.nbytes:'{z1.nbytes}'\")"
   ]
  },
  {
   "cell_type": "markdown",
   "metadata": {},
   "source": [
    "#### Conversion/cast of data types"
   ]
  },
  {
   "cell_type": "markdown",
   "metadata": {},
   "source": [
    "To perform a data type conversion (<font color=\"green\"><b>cast</b></font>) into a different data type:<br>\n",
    "numpy.**astype**(dtype) : convert array to type dtype"
   ]
  },
  {
   "cell_type": "code",
   "execution_count": 12,
   "metadata": {
    "trusted": true
   },
   "outputs": [
    {
     "name": "stdout",
     "output_type": "stream",
     "text": [
      "\n",
      "f1 := np.array([1.0,2.5,3.0,7.2]):\n",
      "    [1.  2.5 3.  7.2]\n",
      "  i3 := f1.astype(dtype='complex128'):\n",
      "    [1. +0.j 2.5+0.j 3. +0.j 7.2+0.j]\n",
      "\n",
      "  i3.dtype:'complex128'\n",
      "  i3.size :'4'\n",
      "  i3.itemsize:'16'\n",
      "  i3.nbytes:'64'\n"
     ]
    }
   ],
   "source": [
    "# Change dtype of an array \n",
    "f1 = np.array([1.0,2.5,3.0,7.2])\n",
    "print(f\"\\nf1 := np.array([1.0,2.5,3.0,7.2]):\\n    {f1}\")\n",
    "i3 = f1.astype('complex128')\n",
    "print(f\"  i3 := f1.astype(dtype='complex128'):\\n    {i3}\\n\") #note that converting from integer to complex number does not lose you precision, but converting from complex number to integer DOES lose precision.\n",
    "print(f\"  i3.dtype:'{i3.dtype}'\")\n",
    "print(f\"  i3.size :'{i3.size}'\")\n",
    "print(f\"  i3.itemsize:'{i3.itemsize}'\")\n",
    "print(f\"  i3.nbytes:'{i3.nbytes}'\")"
   ]
  },
  {
   "cell_type": "markdown",
   "metadata": {},
   "source": [
    "#### Native data types in NumPy"
   ]
  },
  {
   "cell_type": "code",
   "execution_count": 3,
   "metadata": {
    "trusted": true
   },
   "outputs": [
    {
     "name": "stdout",
     "output_type": "stream",
     "text": [
      "  key:bool  value:<class 'numpy.bool'>\n",
      "  key:float16  value:<class 'numpy.float16'>\n",
      "  key:float32  value:<class 'numpy.float32'>\n",
      "  key:float64  value:<class 'numpy.float64'>\n",
      "  key:longdouble  value:<class 'numpy.longdouble'>\n",
      "  key:complex64  value:<class 'numpy.complex64'>\n",
      "  key:complex128  value:<class 'numpy.complex128'>\n",
      "  key:clongdouble  value:<class 'numpy.clongdouble'>\n",
      "  key:bytes_  value:<class 'numpy.bytes_'>\n",
      "  key:str_  value:<class 'numpy.str_'>\n",
      "  key:void  value:<class 'numpy.void'>\n",
      "  key:object_  value:<class 'numpy.object_'>\n",
      "  key:datetime64  value:<class 'numpy.datetime64'>\n",
      "  key:timedelta64  value:<class 'numpy.timedelta64'>\n",
      "  key:int8  value:<class 'numpy.int8'>\n",
      "  key:byte  value:<class 'numpy.int8'>\n",
      "  key:uint8  value:<class 'numpy.uint8'>\n",
      "  key:ubyte  value:<class 'numpy.uint8'>\n",
      "  key:int16  value:<class 'numpy.int16'>\n",
      "  key:short  value:<class 'numpy.int16'>\n",
      "  key:uint16  value:<class 'numpy.uint16'>\n"
     ]
    }
   ],
   "source": [
    "# Native scalar data types in numpy. sctypeDict is a new one:\n",
    "d = np.sctypeDict\n",
    "for i, key in enumerate(d):\n",
    "    print(f\"  key:{key}  value:{d[key]}\")\n",
    "    if i==20: break"
   ]
  },
  {
   "cell_type": "markdown",
   "metadata": {},
   "source": [
    "#### Machine limits of some fundamental data types (in contrast to regular Python, where integers are not limited but by your own machine's computing power)"
   ]
  },
  {
   "cell_type": "markdown",
   "metadata": {},
   "source": [
    "* np.finfo: machine limits for floating point types.\n",
    "* np.iinfo: machine limits for integer types."
   ]
  },
  {
   "cell_type": "code",
   "execution_count": 4,
   "metadata": {
    "trusted": true
   },
   "outputs": [
    {
     "name": "stdout",
     "output_type": "stream",
     "text": [
      "Machine parameters for float64\n",
      "---------------------------------------------------------------\n",
      "precision =  15   resolution = 1.0000000000000001e-15\n",
      "machep =    -52   eps =        2.2204460492503131e-16\n",
      "negep =     -53   epsneg =     1.1102230246251565e-16\n",
      "minexp =  -1022   tiny =       2.2250738585072014e-308\n",
      "maxexp =   1024   max =        1.7976931348623157e+308\n",
      "nexp =       11   min =        -max\n",
      "smallest_normal = 2.2250738585072014e-308   smallest_subnormal = 4.9406564584124654e-324\n",
      "---------------------------------------------------------------\n",
      "\n",
      "Machine parameters for int32\n",
      "---------------------------------------------------------------\n",
      "min = -2147483648\n",
      "max = 2147483647\n",
      "---------------------------------------------------------------\n",
      "\n"
     ]
    }
   ],
   "source": [
    "# Float64\n",
    "print(np.finfo(np.float64))\n",
    "# Int32\n",
    "print(np.iinfo(np.int32))"
   ]
  },
  {
   "cell_type": "markdown",
   "metadata": {},
   "source": [
    "**Regular** Python (<font color=\"red\"><b>quite different!</b></font>)\n",
    "* <font color=\"green\"><b>Integers</b></font> in Python have **NO** max. size: they are <font color=\"green\"><b>limited by the memory of the machine</b></font>.\n",
    "  - Any integer too big to fit in 64 bits is handled in software. Python 3 does't have a sys.maxint constant.\n",
    "* The limits of floats in regular Python are given in <font color=\"green\"><b>sys.float_info</b><font>"
   ]
  },
  {
   "cell_type": "markdown",
   "metadata": {},
   "source": [
    "**Example 1 (integers)**"
   ]
  },
  {
   "cell_type": "code",
   "execution_count": 5,
   "metadata": {
    "trusted": true
   },
   "outputs": [
    {
     "name": "stdout",
     "output_type": "stream",
     "text": [
      "sys.maxsize         :9223372036854775807\n",
      "sys.maxsize+1       :9223372036854775808\n",
      "log2(sys.maxsize+1) :63.0\n",
      "#digits(GOOGOL)     :101\n"
     ]
    }
   ],
   "source": [
    "# Example\n",
    "import math\n",
    "import sys\n",
    "\n",
    "print(f\"sys.maxsize         :{sys.maxsize}\")\n",
    "print(f\"sys.maxsize+1       :{sys.maxsize +1}\")\n",
    "print(f\"log2(sys.maxsize+1) :{math.log2(sys.maxsize+1)}\")  # 2**64\n",
    "GOOGOL=10**100\n",
    "print(f\"#digits(GOOGOL)     :{len(str(GOOGOL))}\")"
   ]
  },
  {
   "cell_type": "markdown",
   "metadata": {},
   "source": [
    "**Example 2 (floats)**"
   ]
  },
  {
   "cell_type": "code",
   "execution_count": 6,
   "metadata": {
    "trusted": true
   },
   "outputs": [
    {
     "name": "stdout",
     "output_type": "stream",
     "text": [
      "sys.float_info:sys.float_info(max=1.7976931348623157e+308, max_exp=1024, max_10_exp=308, min=2.2250738585072014e-308, min_exp=-1021, min_10_exp=-307, dig=15, mant_dig=53, epsilon=2.220446049250313e-16, radix=2, rounds=1)\n"
     ]
    }
   ],
   "source": [
    "import sys\n",
    "print(f\"sys.float_info:{sys.float_info}\")"
   ]
  },
  {
   "cell_type": "markdown",
   "metadata": {},
   "source": [
    "#### Compound data types in NumPy"
   ]
  },
  {
   "cell_type": "markdown",
   "metadata": {},
   "source": [
    "The class <font color=\"green\"><b>np.dtype</b></font> allows you to create your own compound data types \n",
    "(<font color=\"green\"><b>structured arrays</b></font> cfr. C structs).<br>\n",
    "For more info:<br>\n",
    "[https://numpy.org/doc/stable/user/basics.rec.html](https://numpy.org/doc/stable/user/basics.rec.html)"
   ]
  },
  {
   "cell_type": "markdown",
   "metadata": {},
   "source": [
    "### Particular forms of ndarray"
   ]
  },
  {
   "cell_type": "markdown",
   "metadata": {},
   "source": [
    "Numpy has specific <font><b>initialization</b></font> functions<br> \n",
    "A few of the most important ones:\n",
    "* diag(v,k=0)  ... K being slope, or position?                          \n",
    "  + either **extracts** the diagonal (if the matrix exists)\n",
    "  + or **constructs** a diagonal array. \n",
    "* empty(shape,dtype='float64',order='C') \n",
    "  + returns a new array <b>without</b> initializing its entries (i.e. mem. allocation)\n",
    "* full(shape,value,dtype='float64',order='C')\n",
    "  + returns a new array <b>initializing</b> its entries to <i>value</i>.\n",
    "* eye(N,M=None,k=0,dtype='float64')      \n",
    "  + returns a 2-D array with ones on the 'diagonal' and zeros elsewhere\n",
    "* fromfunction(myfunc,shape,dtype)                          \n",
    "  + returns a new array based on a function\n",
    "* identity(n,dtype='float64')            \n",
    "  + returns the $n$ x $n$ identity matrix\n",
    "* ones(shape,dtype='float64',order='C')  \n",
    "  + returns a new array completely filled with 1s \n",
    "* zeros(shape,dtype='float64',order='C') \n",
    "  + returns a new array completely filled with 0s\n",
    "  "
   ]
  },
  {
   "cell_type": "code",
   "execution_count": 18,
   "metadata": {
    "trusted": true
   },
   "outputs": [
    {
     "name": "stdout",
     "output_type": "stream",
     "text": [
      "  a1:\n",
      "[[ 0  1  2  3  4]\n",
      " [ 5  6  7  8  9]\n",
      " [10 11 12 13 14]\n",
      " [15 16 17 18 19]]\n",
      "  \n",
      " np.diag(a1):\n",
      "[ 0  6 12 18]\n",
      "  \n",
      " np.diag(a1,k=1):\n",
      "[ 1  7 13 19]\n",
      "  \n",
      " np.diag(range(4)):\n",
      "[[0 0 0 0]\n",
      " [0 1 0 0]\n",
      " [0 0 2 0]\n",
      " [0 0 0 3]]\n",
      "  \n",
      " np.diag(range(4),k=1):\n",
      "[[0 0 0 0 0]\n",
      " [0 0 1 0 0]\n",
      " [0 0 0 2 0]\n",
      " [0 0 0 0 3]\n",
      " [0 0 0 0 0]]\n"
     ]
    }
   ],
   "source": [
    "# Diag function\n",
    "a1 = np.array([i for i in range(20)]).reshape(4,5)\n",
    "print(f\"  a1:\\n{a1}\")\n",
    "\n",
    "# Extract the diagonal\n",
    "print(f\"  \\n np.diag(a1):\\n{np.diag(a1)}\")\n",
    "\n",
    "# Extract a SHIFTED diagonal\n",
    "print(f\"  \\n np.diag(a1,k=1):\\n{np.diag(a1,k=1)}\")\n",
    "\n",
    "# Create a diagonal matrix\n",
    "print(f\"  \\n np.diag(range(4)):\\n{np.diag(range(4))}\")\n",
    "\n",
    "# Create a SHIFTED diagonal matrix\n",
    "print(f\"  \\n np.diag(range(4),k=1):\\n{np.diag(range(4),k=1)}\")"
   ]
  },
  {
   "cell_type": "code",
   "execution_count": 21,
   "metadata": {
    "trusted": true
   },
   "outputs": [
    {
     "name": "stdout",
     "output_type": "stream",
     "text": [
      "a2=np.empty((2,3)) :\n",
      "[[4.66351155e-310 0.00000000e+000 0.00000000e+000]\n",
      " [0.00000000e+000 0.00000000e+000 0.00000000e+000]]\n",
      "\n",
      "a3=np.eye(5,4,k=1,dtype='float64') :\n",
      "[[0. 1. 0. 0.]\n",
      " [0. 0. 1. 0.]\n",
      " [0. 0. 0. 1.]\n",
      " [0. 0. 0. 0.]\n",
      " [0. 0. 0. 0.]]\n",
      "\n",
      "a4=np.fromfunction(lambda x,y: x+2*y,(2,5),dtype='float64') :\n",
      "[[0. 2. 4. 6. 8.]\n",
      " [1. 3. 5. 7. 9.]]\n",
      "\n",
      "a5=np.identity(5,dtype='int64') :\n",
      "[[1 0 0 0 0]\n",
      " [0 1 0 0 0]\n",
      " [0 0 1 0 0]\n",
      " [0 0 0 1 0]\n",
      " [0 0 0 0 1]]\n",
      "\n",
      "a6=np.ones((2,7),dtype='int64') :\n",
      "[[1 1 1 1 1 1 1]\n",
      " [1 1 1 1 1 1 1]]\n",
      "\n",
      "a7=np.zeros((3,4),dtype='complex128') :\n",
      "[[0.+0.j 0.+0.j 0.+0.j 0.+0.j]\n",
      " [0.+0.j 0.+0.j 0.+0.j 0.+0.j]\n",
      " [0.+0.j 0.+0.j 0.+0.j 0.+0.j]]\n",
      "\n",
      "a8=np.full((3,5), np.pi):\n",
      "[[3.14159265 3.14159265 3.14159265 3.14159265 3.14159265]\n",
      " [3.14159265 3.14159265 3.14159265 3.14159265 3.14159265]\n",
      " [3.14159265 3.14159265 3.14159265 3.14159265 3.14159265]]\n",
      "\n"
     ]
    }
   ],
   "source": [
    "# Memory allocation\n",
    "a2=np.empty((2,3))\n",
    "print(f\"a2=np.empty((2,3)) :\\n{a2}\\n\")\n",
    "\n",
    "# Create ones on the diagonal\n",
    "a3=np.eye(5,4,k=1,dtype='float64')\n",
    "print(f\"a3=np.eye(5,4,k=1,dtype='float64') :\\n{a3}\\n\")\n",
    "\n",
    "# Use a function (index based) to generate entries\n",
    "a4=np.fromfunction(lambda x,y: x+2*y,(2,5),dtype='float64')\n",
    "print(f\"a4=np.fromfunction(lambda x,y: x+2*y,(2,5),dtype='float64') :\\n{a4}\\n\")\n",
    "\n",
    "# Return a SQUARE identity matrix\n",
    "a5=np.identity(5,dtype='int64')\n",
    "print(f\"a5=np.identity(5,dtype='int64') :\\n{a5}\\n\")\n",
    "\n",
    "a6=np.ones((2,7),dtype='int64')\n",
    "print(f\"a6=np.ones((2,7),dtype='int64') :\\n{a6}\\n\")\n",
    "\n",
    "a7=np.zeros((3,4),dtype='complex128')\n",
    "print(f\"a7=np.zeros((3,4),dtype='complex128') :\\n{a7}\\n\")\n",
    "\n",
    "a8=np.full((3,5), np.pi)\n",
    "print(f\"a8=np.full((3,5), np.pi):\\n{a8}\\n\")"
   ]
  },
  {
   "cell_type": "markdown",
   "metadata": {},
   "source": [
    "### Random initializations of ndarrays"
   ]
  },
  {
   "cell_type": "markdown",
   "metadata": {},
   "source": [
    "You can populate an ndarray with random numbers<br>\n",
    "- The default (pseudo) random number generator (PRNG) in NumPy is based on<br> the **Permuted Congruential Generator (64-bit) - (PCG64)**<br>\n",
    "  https://en.wikipedia.org/wiki/Permuted_congruential_generator <br>\n",
    "  **PCG64** replaces the **Mersenne twister** (still available)\n",
    "\n",
    "- Some common distributions:\n",
    "  * <font color=\"green\"><b>random</b></font>(sz=None, dtype=np.float64, out=None): <br>\n",
    "    Samples floats from the **uniform distribution** $[0,1)$.\n",
    "  * <font color=\"green\"><b>integers</b></font>(low, high=None, size=None, dtype=np.int64, endpoint=False):<br>\n",
    "    Return random **integers** from low (inclusive) to high (exclusive).\n",
    "  * <font color=\"green\"><b>choice</b></font>(a, size=None, replace=True, p=None):<br>\n",
    "    generates a random sample from a given $1D$-array.\n",
    "  * <font color=\"green\"><b>normal</b></font>(loc=0.0, scale=1.0, size=None):<br>\n",
    "    draws random samples from the **normal distribution**. "
   ]
  },
  {
   "cell_type": "code",
   "execution_count": 7,
   "metadata": {
    "trusted": true
   },
   "outputs": [
    {
     "name": "stdout",
     "output_type": "stream",
     "text": [
      "Random Generator:Generator(PCG64)\n",
      "\n",
      " a:\n",
      "[[0.03990558 0.25143318 0.00295871 0.8493429  0.61045708]\n",
      " [0.10740947 0.90796763 0.39137054 0.89926876 0.57932696]\n",
      " [0.83902577 0.55768967 0.94306119 0.87400688 0.52597953]\n",
      " [0.70849925 0.08868067 0.80048307 0.6497989  0.51990535]]\n",
      "\n",
      " b:\n",
      "[[ 5 13 10 11  9  6]\n",
      " [ 7 12  8  7 13 12]\n",
      " [ 7 14  8 14 14 10]\n",
      " [ 7 10 14 10  6  6]]\n",
      "\n",
      " c:\n",
      "[['w' 'a']\n",
      " ['c' 'a']\n",
      " ['b' 'b']\n",
      " ['c' 'w']\n",
      " ['x' 'w']\n",
      " ['x' 'w']\n",
      " ['w' 'c']]\n",
      "\n"
     ]
    },
    {
     "data": {
      "image/png": "[encoded data removed]",
      "text/plain": [
       "<Figure size 640x480 with 1 Axes>"
      ]
     },
     "metadata": {},
     "output_type": "display_data"
    }
   ],
   "source": [
    "import numpy.random as rnd\n",
    "rng = rnd.default_rng()\n",
    "print(f\"Random Generator:{rng}\\n\")\n",
    "\n",
    "a = rng.random((4,5))\n",
    "print(f\" a:\\n{a}\\n\")\n",
    "      \n",
    "b = rng.integers(5,15,(4,6))   \n",
    "print(f\" b:\\n{b}\\n\")\n",
    "\n",
    "c = rng.choice([\"a\",\"b\",\"c\", \"w\",\"x\"],(7,2))\n",
    "print(f\" c:\\n{c}\\n\")\n",
    "\n",
    "d = rng.normal(loc=-2.0, scale=0.5,size=(1000000))\n",
    "plt.title(r\"Sampling from $N(\\mu=-2.0;\\sigma=0.5)$\")\n",
    "plt.hist(d, bins=75);"
   ]
  },
  {
   "cell_type": "markdown",
   "metadata": {},
   "source": [
    "More details w.r.t PNRGs and statistical distributions are to be found at the end of [Lecture 8](./lec8.ipynb)."
   ]
  },
  {
   "cell_type": "markdown",
   "metadata": {},
   "source": [
    "## Exercises"
   ]
  },
  {
   "cell_type": "markdown",
   "metadata": {},
   "source": [
    "* Create a 5x5 matrix with the following (staggered) entries:<br>\n",
    "  $ \n",
    "  \\begin{equation*}\n",
    "     a = \n",
    "    \\begin{pmatrix}\n",
    "     0 & 1 & 2 & 3 & 4 \\\\\n",
    "     1 & 2 & 3 & 4 & 5 \\\\\n",
    "     2 & 3 & 4 & 5 & 6 \\\\\n",
    "     3 & 4 & 5 & 6 & 7 \\\\\n",
    "     4 & 5 & 6 & 7 & 8\n",
    "    \\end{pmatrix}\n",
    "    \\end{equation*}\n",
    "  $  \n",
    "   \n",
    "       (Hint: use the np.fromfunction) \n",
    "       \n",
    "* Create a 6x6 'tridiagonal' matrix (see https://en.wikipedia.org/wiki/Tridiagonal_matrix)<br>\n",
    "  where:\n",
    "  * the 'tridiagonal' elements are True and \n",
    "  * the 'non-tridiagonal' elements are False<br>\n",
    "  Boolean matrices are <font color=\"green\"><b>key components</b></font> for fancy indexing (see later)<br>\n",
    "  (<b>Hint</b>: 0:False & non-zero:True)"
   ]
  },
  {
   "cell_type": "code",
   "execution_count": 24,
   "metadata": {
    "trusted": true
   },
   "outputs": [
    {
     "name": "stdout",
     "output_type": "stream",
     "text": [
      "[[0 1 2 3 4]\n",
      " [1 2 3 4 5]\n",
      " [2 3 4 5 6]\n",
      " [3 4 5 6 7]\n",
      " [4 5 6 7 8]]\n"
     ]
    }
   ],
   "source": [
    "# Use a function (index based) to generate entries\n",
    "a=np.fromfunction(lambda x,y: x+1*y,(5,5),dtype='int64')\n",
    "print(a)"
   ]
  },
  {
   "cell_type": "code",
   "execution_count": 27,
   "metadata": {
    "trusted": true
   },
   "outputs": [
    {
     "name": "stdout",
     "output_type": "stream",
     "text": [
      "  a1:\n",
      "[[ 0  1  2  3  4  5]\n",
      " [ 6  7  8  9 10 11]\n",
      " [12 13 14 15 16 17]\n",
      " [18 19 20 21 22 23]\n",
      " [24 25 26 27 28 29]\n",
      " [30 31 32 33 34 35]]\n",
      "  \n",
      " np.diag(a1):\n",
      "[ 0  7 14 21 28 35]\n",
      "  \n",
      " np.diag(a1,k=1):\n",
      "[ 1  8 15 22 29]\n",
      "  \n",
      " np.diag(range(4)):\n",
      "[[0 0 0 0]\n",
      " [0 1 0 0]\n",
      " [0 0 2 0]\n",
      " [0 0 0 3]]\n",
      "  \n",
      " np.diag(range(4),k=1):\n",
      "[[0 0 0 0 0]\n",
      " [0 0 1 0 0]\n",
      " [0 0 0 2 0]\n",
      " [0 0 0 0 3]\n",
      " [0 0 0 0 0]]\n"
     ]
    }
   ],
   "source": [
    "# Diag function\n",
    "a1 = np.array([i for i in range(36)]).reshape(6,6)\n",
    "print(f\"  a1:\\n{a1}\")\n",
    "\n",
    "pass\n",
    "# Extract the diagonal\n",
    "print(f\"  \\n np.diag(a1):\\n{np.diag(a1)}\")\n",
    "\n",
    "# Extract a SHIFTED diagonal\n",
    "print(f\"  \\n np.diag(a1,k=1):\\n{np.diag(a1,k=1)}\")\n",
    "\n",
    "# Create a diagonal matrix\n",
    "print(f\"  \\n np.diag(range(4)):\\n{np.diag(range(4))}\")\n",
    "\n",
    "# Create a SHIFTED diagonal matrix\n",
    "print(f\"  \\n np.diag(range(4),k=1):\\n{np.diag(range(4),k=1)}\")"
   ]
  },
  {
   "cell_type": "markdown",
   "metadata": {},
   "source": [
    "## Solutions"
   ]
  },
  {
   "cell_type": "code",
   "execution_count": 13,
   "metadata": {
    "trusted": true
   },
   "outputs": [
    {
     "name": "stdout",
     "output_type": "stream",
     "text": [
      "[[0 1 2 3 4]\n",
      " [1 2 3 4 5]\n",
      " [2 3 4 5 6]\n",
      " [3 4 5 6 7]\n",
      " [4 5 6 7 8]]\n",
      "[[0. 1. 2. 3. 4.]\n",
      " [1. 2. 3. 4. 5.]\n",
      " [2. 3. 4. 5. 6.]\n",
      " [3. 4. 5. 6. 7.]\n",
      " [4. 5. 6. 7. 8.]]\n",
      "[[ True  True False False False False]\n",
      " [ True  True  True False False False]\n",
      " [False  True  True  True False False]\n",
      " [False False  True  True  True False]\n",
      " [False False False  True  True  True]\n",
      " [False False False False  True  True]]\n",
      "[[ True  True False False False False]\n",
      " [ True  True  True False False False]\n",
      " [False  True  True  True False False]\n",
      " [False False  True  True  True False]\n",
      " [False False False  True  True  True]\n",
      " [False False False False  True  True]]\n"
     ]
    }
   ],
   "source": [
    "# %load ../solutions/ex2.py\n",
    "import numpy as np\n",
    "\n",
    "#EXERCISE 1, ACTUAL SOLUTION 1:\n",
    "A  = np.fromfunction(lambda x,y: x+y,(5,5),dtype='int32')\n",
    "print(A)\n",
    "#EXERCISE 1, ACTUAL SOLUTION 2:\n",
    "def myfunc(x,y):\n",
    "    return x+y\n",
    "\n",
    "B= np.fromfunction(myfunc,(5,5))\n",
    "print(B)\n",
    "\n",
    "\n",
    "# EXERCISE 2, ACTUAL Solution 1:\n",
    "C = np.eye(6,6) + np.eye(6,6,k=1) + np.eye(6,6,k=-1)\n",
    "C = C.astype(dtype='bool')\n",
    "print(C)\n",
    "\n",
    "# EXERCISE 2, ACTUAL Solution 2:\n",
    "D = np.diag([1 for i in range(6)]) +\\\n",
    "    np.diag([1 for i in range(5)], k=1) +\\\n",
    "    np.diag([1 for i in range(5)],k=-1)\n",
    "D = D.astype(dtype='bool')\n",
    "print(D)    \n"
   ]
  },
  {
   "cell_type": "markdown",
   "metadata": {},
   "source": [
    "## Addendum"
   ]
  },
  {
   "cell_type": "markdown",
   "metadata": {},
   "source": [
    "#### np.empty_like(), np.zeros_like(), np.ones_like() functions:"
   ]
  },
  {
   "cell_type": "markdown",
   "metadata": {},
   "source": [
    "Numpy allows one to create empty, zeros, ones ndarrays <br>\n",
    "with the <b><font color=\"green\">SAME</font></b> shape as an existing ndarrays.<br>\n",
    "(Syntax: y = np.zeros_like(x), etc.)\n",
    "  * np.empty_like()\n",
    "  * np.full_like()\n",
    "  * np.zeros_like()\n",
    "  * np.ones_like()"
   ]
  },
  {
   "cell_type": "code",
   "execution_count": 30,
   "metadata": {
    "trusted": true
   },
   "outputs": [
    {
     "name": "stdout",
     "output_type": "stream",
     "text": [
      " a:\n",
      "[[0.8538 0.6035 0.4084 0.9424 0.0719 0.4523]\n",
      " [0.317  0.3733 0.6744 0.6997 0.4856 0.9685]\n",
      " [0.9358 0.3625 0.0023 0.7643 0.4553 0.2423]\n",
      " [0.6583 0.4385 0.5406 0.2783 0.0999 0.5864]]\n",
      " b:\n",
      "[[0 0 0 0 0 0]\n",
      " [0 0 0 0 0 0]\n",
      " [0 0 0 0 0 0]\n",
      " [0 0 0 0 0 0]]\n"
     ]
    }
   ],
   "source": [
    "np.set_printoptions(precision=4)\n",
    "a = rng.random((4,6))\n",
    "print(f\" a:\\n{a}\")\n",
    "b = np.zeros_like(a,dtype='int32')\n",
    "print(f\" b:\\n{b}\")"
   ]
  },
  {
   "cell_type": "code",
   "execution_count": null,
   "metadata": {
    "trusted": true
   },
   "outputs": [],
   "source": []
  }
 ],
 "metadata": {
  "kernelspec": {
   "display_name": "Python 3",
   "language": "python",
   "name": "python3"
  },
  "language_info": {
   "codemirror_mode": {
    "name": "ipython",
    "version": 3
   },
   "file_extension": ".py",
   "mimetype": "text/x-python",
   "name": "python",
   "nbconvert_exporter": "python",
   "pygments_lexer": "ipython3",
   "version": "3.9.6"
  }
 },
 "nbformat": 4,
 "nbformat_minor": 4
}
