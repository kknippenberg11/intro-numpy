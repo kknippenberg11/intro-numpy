{
 "cells": [
  {
   "cell_type": "markdown",
   "metadata": {},
   "source": [
    "# Lecture 5"
   ]
  },
  {
   "cell_type": "code",
   "execution_count": 1,
   "metadata": {},
   "outputs": [
    {
     "name": "stdout",
     "output_type": "stream",
     "text": [
      "Check versions:\n",
      "  numpy version     :'2.0.2'\n",
      "  matplotlib version:'3.9.4'\n"
     ]
    }
   ],
   "source": [
    "%run set_env.py\n",
    "%matplotlib inline"
   ]
  },
  {
   "cell_type": "markdown",
   "metadata": {},
   "source": [
    "## Universal Functions (UFuncs)"
   ]
  },
  {
   "cell_type": "markdown",
   "metadata": {},
   "source": [
    "A <font color=\"green\"><b>universal function (ufunc)</b></font> is:\n",
    "* a function which operates on an ndarray object in an <font color=\"green\"><b>element-by-element</b></font> fashion\n",
    "* an instance of the numpy.ufunc class\n",
    "* a function of which many are implemented in compiled C code\n",
    "* to which broadcasting rules are applied. \n",
    "\n",
    "The concept is similar to the <a href=\"https://docs.python.org/3/library/functions.html#map\">map function</a> in standard Python."
   ]
  },
  {
   "cell_type": "markdown",
   "metadata": {},
   "source": [
    "### Common ufuncs within NumPy "
   ]
  },
  {
   "cell_type": "markdown",
   "metadata": {},
   "source": [
    "* Math operations:\n",
    "  * add(x1,x2)   (called when invoked a+b)\n",
    "  * power(x1,x2) (same as '**')\n",
    "  * mod(x1,x2)\n",
    "  * exp(x)\n",
    "  * sqrt(x)\n",
    "  * log(x)  (Napierian/natural logarithm)\n",
    "  * ...\n",
    "* Trig operations:\n",
    "  * sin(x)\n",
    "  * sinh(x)\n",
    "  * arcsinh(x)\n",
    "  * deg2rad(x)\n",
    "  * rad2deg(x)\n",
    "  * ..\n",
    "* Bit-twiddling operations:\n",
    "  * bitwise_and(x1,x2)\n",
    "  * ...\n",
    "* Comparison functions:\n",
    "  * greater(x1,x2) (called when x1>x2 is invoked)\n",
    "  * not_equal(x1,x2) (called when x1!=x2 is invoked)\n",
    "  * maximum(x1,x2)  (el.-wise max.)\n",
    "  * isfinite(x)   (el. test for finiteness i.e. neither Infinity nor Not a Number)\n",
    "  * isinf(x)\n",
    "  * isnan(x)\n",
    "  * ...\n",
    "  \n",
    "All available ufuncs can be found [**here**](https://numpy.org/doc/stable/reference/ufuncs.html#available-ufuncs)."
   ]
  },
  {
   "cell_type": "markdown",
   "metadata": {},
   "source": [
    "<font color=\"blue\"><b>Note:</b></font>\n",
    "* One can write its own UFunc -> C-API"
   ]
  },
  {
   "cell_type": "markdown",
   "metadata": {},
   "source": [
    "**Examples/Applications of UFuncs**"
   ]
  },
  {
   "cell_type": "code",
   "execution_count": 11,
   "metadata": {},
   "outputs": [
    {
     "name": "stdout",
     "output_type": "stream",
     "text": [
      "1.4142135623730951j\n",
      "[1.4142135623730951, 1.7320508075688772]\n"
     ]
    }
   ],
   "source": [
    "import math as m\n",
    "import cmath as cm\n",
    "print(cm.sqrt(-2.0))\n",
    "x = [2.0,3.0]\n",
    "y = [m.sqrt(item) for item in x]\n",
    "print(y)"
   ]
  },
  {
   "cell_type": "code",
   "execution_count": 12,
   "metadata": {},
   "outputs": [
    {
     "name": "stdout",
     "output_type": "stream",
     "text": [
      " x:\n",
      "[[[0.00572 0.33083 0.36895 0.82606 0.48843 0.28109 0.91307]\n",
      "  [0.91648 0.19578 0.57259 0.23287 0.93551 0.40173 0.25006]\n",
      "  [0.69333 0.06799 0.40151 0.57508 0.34779 0.82726 0.55737]]\n",
      "\n",
      " [[0.5222  0.20864 0.11146 0.6315  0.51099 0.32499 0.99765]\n",
      "  [0.77176 0.27362 0.52914 0.66659 0.65291 0.39176 0.09567]\n",
      "  [0.3525  0.3379  0.46115 0.14885 0.61816 0.09812 0.66985]]]\n",
      "\n",
      " y:\n",
      "[[[1.00573 1.39212 1.44621 2.28429 1.62975 1.32457 2.49195]\n",
      "  [2.50046 1.21626 1.77285 1.26222 2.5485  1.49441 1.2841 ]\n",
      "  [2.00036 1.07035 1.49408 1.77728 1.41593 2.28704 1.74607]]\n",
      "\n",
      " [[1.68572 1.232   1.11791 1.88042 1.66695 1.38401 2.71189]\n",
      "  [2.16357 1.31472 1.69747 1.94758 1.92113 1.47958 1.10039]\n",
      "  [1.42261 1.40201 1.58589 1.1605  1.85551 1.10309 1.95394]]]\n",
      "\n",
      "1.6487212707001282\n"
     ]
    }
   ],
   "source": [
    "# Example 1: no BC\n",
    "np.set_printoptions(precision=5)\n",
    "rng = rnd.default_rng()\n",
    "x = rng.random((2,3,7))\n",
    "y = np.exp(x)\n",
    "print(f\" x:\\n{x}\\n\")\n",
    "print(f\" y:\\n{y}\\n\")\n",
    "import math\n",
    "z=0.5\n",
    "print(np.exp(z))"
   ]
  },
  {
   "cell_type": "code",
   "execution_count": 13,
   "metadata": {},
   "outputs": [
    {
     "name": "stdout",
     "output_type": "stream",
     "text": [
      "  x:(13,)\n",
      "[ 90  91  92  93  94  95  96  97  98  99 100 101 102]\n",
      "\n",
      "  y:(5, 1)\n",
      "[[2]\n",
      " [3]\n",
      " [4]\n",
      " [5]\n",
      " [6]]\n",
      "\n",
      "  z:(5, 13)\n",
      "[[0 1 0 1 0 1 0 1 0 1 0 1 0]\n",
      " [0 1 2 0 1 2 0 1 2 0 1 2 0]\n",
      " [2 3 0 1 2 3 0 1 2 3 0 1 2]\n",
      " [0 1 2 3 4 0 1 2 3 4 0 1 2]\n",
      " [0 1 2 3 4 5 0 1 2 3 4 5 0]]\n",
      "\n"
     ]
    }
   ],
   "source": [
    "# Example 2: with Broadcasting\n",
    "x=np.arange(90,103,dtype=int)\n",
    "y=np.arange(2,7,dtype=int).reshape((5,1))\n",
    "print(f\"  x:{x.shape}\\n{x}\\n\")\n",
    "print(f\"  y:{y.shape}\\n{y}\\n\")\n",
    "z=np.mod(x,y)\n",
    "print(f\"  z:{z.shape}\\n{z}\\n\")"
   ]
  },
  {
   "cell_type": "markdown",
   "metadata": {},
   "source": [
    "### Reductions on ndarrays"
   ]
  },
  {
   "cell_type": "markdown",
   "metadata": {},
   "source": [
    "* Besides Numpy functions which operate on ndarrays <font color=\"green\"><b>element-wise</b></font> (UFuncs, vide supra),<br>\n",
    "  there are also Numpy functions which perform <font color=\"green\"><b>reductions</b></font> on ndarrays. \n",
    "\n",
    "* By <font color=\"green\"><b>default</b></font>, the reductions operate on the <font color=\"green\"><b>whole</b></font> ndarray.\n",
    "  \n",
    "* However, we can specify a particular <font color=\"green\"><b>axis/dimension</b></font> on which to perform the reduction.  \n",
    "\n",
    "* The functions all have a similar syntax:<br>\n",
    "  numpy.func_name(a,[axis=None],[dtype=None],[out=None])<br>\n",
    "  The function <font color=\"green\"><b>func_name</b></font> can be called in 2 different ways:\n",
    "  * a.func_name()    # <font color=\"blue\"><b>Object-Oriented way</b></font> i.e. method associated to an object\n",
    "  * np.func_name(a)  # <font color=\"blue\"><b>Procedural way</b></font> i.e. array is an argument of the function"
   ]
  },
  {
   "cell_type": "markdown",
   "metadata": {},
   "source": [
    "#### Mathematical Operations\n",
    "* numpy.sum(), numpy.cumsum()    : sum vs. cumulative sum\n",
    "* numpy.prod(), numpy.cumprod()  : prod vs. cumulative product\n",
    "* numpy.min(), numpy.max()       : min, max of a vector\n",
    "* numpy.argmin(), numpy.argmax() : return indices of the min./max. values"
   ]
  },
  {
   "cell_type": "markdown",
   "metadata": {},
   "source": [
    "#### Statistical Operations\n",
    "* numpy.mean, numpy.median : average, median\n",
    "* numpy.std, numpy.var     : standard deviation, variance"
   ]
  },
  {
   "cell_type": "markdown",
   "metadata": {},
   "source": [
    "#### Logical Operations\n",
    "* numpy.any(): Test whether ANY el. along a given axis evaluates to True\n",
    "* numpy.all(): Test whether ALL el. along a given axis evaluate to True"
   ]
  },
  {
   "cell_type": "markdown",
   "metadata": {},
   "source": [
    "### Examples"
   ]
  },
  {
   "cell_type": "markdown",
   "metadata": {},
   "source": [
    "**Example 1**"
   ]
  },
  {
   "cell_type": "code",
   "execution_count": 14,
   "metadata": {},
   "outputs": [
    {
     "name": "stdout",
     "output_type": "stream",
     "text": [
      "  a:\n",
      "[[[ 1  2  3  4]\n",
      "  [ 5  6  7  8]\n",
      "  [ 9 10 11 12]]\n",
      "\n",
      " [[13 14 15 16]\n",
      "  [17 18 19 20]\n",
      "  [21 22 23 24]]]\n",
      "\n",
      "  a.shape:(2, 3, 4)\n",
      "\n",
      "  a.sum() (Object-oriented syntax): 300\n",
      "\n",
      "  np.sum(a) (Procedural syntax)   : 300\n",
      "\n"
     ]
    }
   ],
   "source": [
    "# Invoke sum over the complete ndarray\n",
    "a = np.arange(1,25).reshape((2,3,4))\n",
    "print(f\"  a:\\n{a}\\n\")\n",
    "print(f\"  a.shape:{a.shape}\\n\")\n",
    "print(f\"  a.sum() (Object-oriented syntax): {a.sum()}\\n\")\n",
    "print(f\"  np.sum(a) (Procedural syntax)   : {np.sum(a)}\\n\")"
   ]
  },
  {
   "cell_type": "code",
   "execution_count": 15,
   "metadata": {},
   "outputs": [
    {
     "name": "stdout",
     "output_type": "stream",
     "text": [
      "   a.sum(axis=0)   shape:(3, 4):\n",
      "[[14 16 18 20]\n",
      " [22 24 26 28]\n",
      " [30 32 34 36]]\n",
      "\n",
      "   a.sum(axis=1)   shape:(2, 4):\n",
      "[[15 18 21 24]\n",
      " [51 54 57 60]]\n",
      "\n",
      "   a.sum(axis=2)   shape:(2, 3):\n",
      "[[10 26 42]\n",
      " [58 74 90]]\n",
      "\n"
     ]
    }
   ],
   "source": [
    "# Invoke sums over certain axes\n",
    "a = np.arange(1,25).reshape((2,3,4))\n",
    "red0 = a.sum(axis=0)\n",
    "print(f\"   a.sum(axis=0)   shape:{red0.shape}:\\n{red0}\\n\")\n",
    "red1 = a.sum(axis=1)\n",
    "print(f\"   a.sum(axis=1)   shape:{red1.shape}:\\n{red1}\\n\")\n",
    "red2 = a.sum(axis=2)\n",
    "print(f\"   a.sum(axis=2)   shape:{red2.shape}:\\n{red2}\\n\")"
   ]
  },
  {
   "cell_type": "markdown",
   "metadata": {},
   "source": [
    "**Example 2**"
   ]
  },
  {
   "cell_type": "code",
   "execution_count": 16,
   "metadata": {},
   "outputs": [
    {
     "name": "stdout",
     "output_type": "stream",
     "text": [
      "  b:\n",
      "[[0.2201 0.4286 0.2814 0.1005 0.9462 0.1651 0.5752]\n",
      " [0.9262 0.3418 0.3154 0.6856 0.7123 0.9529 0.5098]\n",
      " [0.9295 0.8224 0.7293 0.159  0.7343 0.1484 0.1989]]\n",
      "\n",
      "  b.shape:(3, 7)\n",
      "\n",
      "  b.mean(axis=0):\n",
      "[0.6919 0.531  0.4421 0.315  0.7976 0.4221 0.428 ]\n",
      "\n",
      "  bool_matrix:\n",
      "[[False False False False False False False]\n",
      " [False False False False False False False]\n",
      " [False False False False False False False]]\n",
      "\n",
      "  Are they any values < 0.01? False\n"
     ]
    }
   ],
   "source": [
    "np.set_printoptions(precision=4)\n",
    "rng = rnd.default_rng()\n",
    "b = rng.random((3,7))\n",
    "print(f\"  b:\\n{b}\\n\")\n",
    "print(f\"  b.shape:{b.shape}\\n\")\n",
    "\n",
    "av = b.mean(axis=0)\n",
    "print(f\"  b.mean(axis=0):\\n{av}\\n\")\n",
    "\n",
    "bool_matrix = b < 0.05\n",
    "print(f\"  bool_matrix:\\n{bool_matrix}\\n\")\n",
    "print(f\"  Are they any values < 0.01? {bool_matrix.any()}\")"
   ]
  },
  {
   "cell_type": "markdown",
   "metadata": {},
   "source": [
    "## Exercises"
   ]
  },
  {
   "cell_type": "markdown",
   "metadata": {},
   "source": [
    "* Generate the following vector [ 1, 3, 9, 27, ... , 729] using a UFunc.\n",
    " \n",
    "* Generate a 5x10 array A with random numbers $x$ $\\in$ $[0,1[$.\n",
    "  * What is the maximum value for all $x$ in A?\n",
    "  * What is the minimum value in each column?\n",
    "  * What is the minimum value in the fourth row?\n",
    "  * Are there any random numbers $x<\\alpha$ or $x>\\beta$?<br>You can set $\\alpha:=0.02$ and $\\beta:=0.98$\n",
    "  \n",
    "* Write the function *calc_sn(n)* (<font color=\"red\">**without the use of for loops!**</font>): \n",
    "  * The function *calc_sn(n)* returns an array of partial sums $S_n$ ($n>0$) given by:<br>\n",
    "    $\\begin{equation*}\n",
    "      S_n := \\sum_{k=1}^{k=n} \\frac{sin(k)}{k^2} \n",
    "      \\end{equation*}\n",
    "    $ \n",
    "  * Generate the plot $S_n$ where $n$ $\\in$ $\\{1,\\ldots,100\\}$ to visualize the absolute convergency of the series.<br>\n",
    "    You can use the following code to create the matplotlib plot:<br>\n",
    "      * N = 100 <br>\n",
    "      * import matplotlib.pyplot as plt  <br>\n",
    "      * plt.plot(np.arange(1,N+1), calc_sn(N))  <br>\n",
    "      * plt.title(r\"\\\\$ S_n = \\sum_{k=1}^n \\frac{sin(k)}{k^2} \\\\$\") <br>\n",
    "      * plt.xlabel(r\"\\\\$n\\\\$\")  <br>\n",
    "      * plt.ylabel(r\"\\\\$S_n\\\\$\",rotation=0) <br>\n",
    "      * plt.show()  <br>\n",
    "    \n",
    "    \n",
    "  "
   ]
  },
  {
   "cell_type": "markdown",
   "metadata": {},
   "source": [
    "## Solutions"
   ]
  },
  {
   "cell_type": "code",
   "execution_count": 18,
   "metadata": {},
   "outputs": [
    {
     "name": "stdout",
     "output_type": "stream",
     "text": [
      "Exercise 5::\n",
      "  5.1:\n",
      "  x:\n",
      "[1 2 3 4 5 6]\n",
      "\n",
      "    Solution 1:\n",
      "  y:\n",
      "[  3   9  27  81 243 729]\n",
      "\n",
      "    Solution 2:\n",
      "  y:\n",
      "[  3   9  27  81 243 729]\n",
      "\n",
      "  5.2:\n",
      "  A:\n",
      "[[0.05835 0.19514 0.54895 0.04674 0.61289 0.05131 0.82127 0.3893  0.15495\n",
      "  0.12237]\n",
      " [0.06857 0.42171 0.84871 0.7633  0.89518 0.85338 0.05993 0.93391 0.63275\n",
      "  0.94812]\n",
      " [0.18781 0.38031 0.26998 0.90309 0.11831 0.40721 0.65898 0.9515  0.25322\n",
      "  0.13658]\n",
      " [0.97862 0.0297  0.78244 0.65565 0.92302 0.12262 0.26394 0.85497 0.79061\n",
      "  0.3024 ]\n",
      " [0.38857 0.75278 0.47744 0.38442 0.43142 0.82271 0.82426 0.32479 0.39381\n",
      "  0.90848]]\n",
      "\n",
      "  Max val for all of A:\n",
      "0.9786205411377621\n",
      "\n",
      "  Min. val in each column:\n",
      "[0.05835 0.0297  0.26998 0.04674 0.11831 0.05131 0.05993 0.32479 0.15495\n",
      " 0.12237]\n",
      "\n",
      "  Min. val in fourth row:\n",
      "0.02970493165953203\n",
      "\n",
      "  Boolean Matrix:\n",
      "[[False False False False False False False False False False]\n",
      " [False False False False False False False False False False]\n",
      " [False False False False False False False False False False]\n",
      " [False False False False False False False False False False]\n",
      " [False False False False False False False False False False]]\n",
      "\n",
      "  Any val <0.02 or >0.98? False\n",
      "\n",
      "  Corresponding values:\n",
      "[]\n",
      "\n",
      "  5.3:\n"
     ]
    },
    {
     "data": {
      "image/png": "[encoded data removed]",
      "text/plain": [
       "<Figure size 640x480 with 1 Axes>"
      ]
     },
     "metadata": {},
     "output_type": "display_data"
    }
   ],
   "source": [
    "# %load ../solutions/ex5.py\n",
    "import math\n",
    "import numpy as np\n",
    "import numpy.random as rnd\n",
    "import matplotlib.pyplot as plt\n",
    "np.set_printoptions(precision=5)\n",
    "\n",
    "\n",
    "print(f\"Exercise 5::\")\n",
    "print(f\"  5.1:\")\n",
    "x = np.arange(1,7)\n",
    "print(f\"  x:\\n{x}\\n\")\n",
    "print(f\"    Solution 1:\")\n",
    "y = np.power(3,x)\n",
    "print(f\"  y:\\n{y}\\n\")\n",
    "\n",
    "print(f\"    Solution 2:\")\n",
    "y = 3**x\n",
    "print(f\"  y:\\n{y}\\n\")\n",
    "\n",
    "\n",
    "print(f\"  5.2:\")\n",
    "rng = rnd.default_rng()\n",
    "A = rng.random((5,10))\n",
    "print(f\"  A:\\n{A}\\n\")\n",
    "\n",
    "max_val = A.max()\n",
    "print(f\"  Max val for all of A:\\n{max_val}\\n\")\n",
    "\n",
    "min_val_eachcol = A.min(axis=0) \n",
    "print(f\"  Min. val in each column:\\n{min_val_eachcol}\\n\")\n",
    "\n",
    "min_val_fourthrow = A[3,:].min()\n",
    "print(f\"  Min. val in fourth row:\\n{min_val_fourthrow}\\n\")\n",
    "\n",
    "bool_mat = (A < 0.02) | (A > 0.98)\n",
    "print(f\"  Boolean Matrix:\\n{bool_mat}\\n\".format(bool_mat))\n",
    "print(f\"  Any val <0.02 or >0.98? {bool_mat.any()}\\n\")\n",
    "print(f\"  Corresponding values:\\n{A[bool_mat]}\\n\")\n",
    "\n",
    "\n",
    "print(f\"  5.3:\")\n",
    "def calc_sn(n):\n",
    "    \"\"\"\n",
    "    Function which returns an array of \n",
    "    partial sums \n",
    "    \"\"\"\n",
    "    k = np.arange(1,n+1)\n",
    "    nom = np.sin(k)\n",
    "    denom = k**2\n",
    "    return np.cumsum(nom/denom)\n",
    "\n",
    "N = 100\n",
    "k = np.arange(1,N+1)\n",
    "Sk = calc_sn(N)\n",
    "plt.xlabel(r\"$n$\")\n",
    "plt.ylabel(r\"$S_n$\",rotation=0)\n",
    "plt.title(r\"$ S_n = \\sum_{k=1}^n \\frac{sin(k)}{k^2} $\")\n",
    "plt.plot(k,Sk);\n"
   ]
  },
  {
   "cell_type": "markdown",
   "metadata": {},
   "source": []
  },
  {
   "cell_type": "code",
   "execution_count": null,
   "metadata": {},
   "outputs": [],
   "source": []
  }
 ],
 "metadata": {
  "kernelspec": {
   "display_name": "Python 3",
   "language": "python",
   "name": "python3"
  },
  "language_info": {
   "codemirror_mode": {
    "name": "ipython",
    "version": 3
   },
   "file_extension": ".py",
   "mimetype": "text/x-python",
   "name": "python",
   "nbconvert_exporter": "python",
   "pygments_lexer": "ipython3",
   "version": "3.9.6"
  },
  "latex_envs": {
   "LaTeX_envs_menu_present": true,
   "autoclose": false,
   "autocomplete": true,
   "bibliofile": "biblio.bib",
   "cite_by": "apalike",
   "current_citInitial": 1,
   "eqLabelWithNumbers": true,
   "eqNumInitial": 1,
   "hotkeys": {
    "equation": "Ctrl-E",
    "itemize": "Ctrl-I"
   },
   "labels_anchors": false,
   "latex_user_defs": false,
   "report_style_numbering": false,
   "user_envs_cfg": false
  },
  "toc": {
   "base_numbering": 1,
   "nav_menu": {},
   "number_sections": true,
   "sideBar": true,
   "skip_h1_title": false,
   "title_cell": "Table of Contents",
   "title_sidebar": "Contents",
   "toc_cell": false,
   "toc_position": {},
   "toc_section_display": true,
   "toc_window_display": false
  }
 },
 "nbformat": 4,
 "nbformat_minor": 4
}
