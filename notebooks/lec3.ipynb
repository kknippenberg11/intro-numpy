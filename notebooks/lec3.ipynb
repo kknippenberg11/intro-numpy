{
 "cells": [
  {
   "cell_type": "markdown",
   "metadata": {},
   "source": [
    "# Lecture 3"
   ]
  },
  {
   "cell_type": "code",
   "execution_count": 1,
   "metadata": {
    "trusted": true
   },
   "outputs": [
    {
     "name": "stdout",
     "output_type": "stream",
     "text": [
      "Check versions:\n",
      "  numpy version     :'2.0.2'\n",
      "  matplotlib version:'3.9.4'\n"
     ]
    }
   ],
   "source": [
    "%run set_env.py\n",
    "%matplotlib inline"
   ]
  },
  {
   "cell_type": "markdown",
   "metadata": {},
   "source": [
    "## Indexing and Slicing"
   ]
  },
  {
   "cell_type": "markdown",
   "metadata": {},
   "source": [
    "### 1D Array"
   ]
  },
  {
   "cell_type": "markdown",
   "metadata": {},
   "source": [
    "Exactly as in regular python (<font color=\"green\"><b>Nihil novi sub sole!</b></font>):\n",
    "* Index: zero-based (like C++, whereas Fortran and R start at 1)<br>\n",
    "  [Why numbering should start at zero (Edsger Wybe Dijkstra)](https://www.cs.utexas.edu/~EWD/ewd08xx/EWD831.PDF)\n",
    "* [start:end:step) i.e. half-open interval\n",
    "   * start: (default:0)\n",
    "   * end: (default: all the way to the end (but exclusive of the last))\n",
    "   * step: (default: +1)\n",
    "* We can use negative indices:\n",
    "   * -1: last el., etc.\n",
    "* a[i]   : **indexing** (a copy) vs. <br> \n",
    "  a[j:m] : **slicing** (a view)"
   ]
  },
  {
   "cell_type": "code",
   "execution_count": 12,
   "metadata": {
    "trusted": true
   },
   "outputs": [
    {
     "name": "stdout",
     "output_type": "stream",
     "text": [
      "a := np.arange(21) :\n",
      "  a         :  [ 0  1  2  3  4  5  6  7  8  9 10 11 12 13 14 15 16 17 18 19 20]\n",
      "  a[4]      :  4\n",
      "  a[:]      :  [ 0  1  2  3  4  5  6  7  8  9 10 11 12 13 14 15 16 17 18 19 20]\n",
      "  a[5:]     :  [ 5  6  7  8  9 10 11 12 13 14 15 16 17 18 19 20]\n",
      "  a[2:12:3] :  [ 2  5  8 11]\n",
      "  a[2::5]   :  [ 2  7 12 17]\n",
      "  a[-5:-1]  :  [16 17 18 19]\n",
      "  a[-3:3:-1]:  [18 17 16 15 14 13 12 11 10  9  8  7  6  5  4]\n",
      "  a[-7::2]  :  [14 16 18 20]\n",
      "  a[0]      :  0\n",
      "  a[0:1]    :  [0]\n"
     ]
    }
   ],
   "source": [
    "import numpy as np\n",
    "# 1D Example\n",
    "a = np.arange(21)\n",
    "\n",
    "print(f\"a := np.arange(21) :\\n  a         :  {a}\")\n",
    "print(f\"  a[4]      :  {a[4]}\")\n",
    "print(f\"  a[:]      :  {a[:]}\")\n",
    "print(f\"  a[5:]     :  {a[5:]}\")\n",
    "print(f\"  a[2:12:3] :  {a[2:12:3]}\")\n",
    "print(f\"  a[2::5]   :  {a[2::5]}\") #start at 2, go all the way to the end, and stepsize of 5\n",
    "print(f\"  a[-5:-1]  :  {a[-5:-1]}\") #-1 is the last element, -5 is the 5th last element. \n",
    "print(f\"  a[-3:3:-1]:  {a[-3:3:-1]}\")\n",
    "print(f\"  a[-7::2]  :  {a[-7::2]}\")\n",
    "\n",
    "#for 2 dimensions\n",
    "print(f\"  a[0]      :  {a[0]}\")     # indexing -> ELement.   => LOWER rank\n",
    "print(f\"  a[0:1]    :  {a[0:1]}\")   # slicing  -> ARRAY => preserve rank"
   ]
  },
  {
   "cell_type": "markdown",
   "metadata": {},
   "source": [
    "### nD (2D, 3D, etc) Array"
   ]
  },
  {
   "cell_type": "markdown",
   "metadata": {},
   "source": [
    "* Indexing & slicing are quite similar as for regular Python\n",
    "* <font color=\"red\"><b>MAIN DIFFERENCE</b></font>: \n",
    "  * [i][j] (Python) \n",
    "  * becomes [i,j] (NumPy)\n",
    " "
   ]
  },
  {
   "cell_type": "code",
   "execution_count": 6,
   "metadata": {
    "trusted": true
   },
   "outputs": [
    {
     "name": "stdout",
     "output_type": "stream",
     "text": [
      "  NUMPY::\n",
      "  x:\n",
      "[[   1    3    9   27]\n",
      " [  81  243  729 2187]]\n",
      "\n",
      "  x[0,0] :1\n",
      "  x[1,2] :729\n",
      "  x[1,:] :[  81  243  729 2187]\n",
      "  x[1]   :[  81  243  729 2187]\n",
      "  x[:,-1]:[  27 2187]\n",
      "\n",
      "  REGULAR PYTHON::\n",
      "  x:\n",
      "[[1, 3, 9, 27], [81, 243, 729, 2187]]\n",
      "\n",
      "  x[0][0] :1\n",
      "  x[1][2] :729\n",
      "  x[1][:] :[81, 243, 729, 2187]\n",
      "  x[1]    :[81, 243, 729, 2187]\n",
      "  x[:][-1]:[81, 243, 729, 2187]\n"
     ]
    }
   ],
   "source": [
    "# Example\n",
    "print(\"  NUMPY::\") #all dimensions are treated the same\n",
    "x = np.array([3**i for i in range(8)]).reshape(2,4)\n",
    "print(f\"  x:\\n{x}\\n\")\n",
    "print(f\"  x[0,0] :{x[0,0]}\")\n",
    "print(f\"  x[1,2] :{x[1,2]}\")\n",
    "print(f\"  x[1,:] :{x[1,:]}\")\n",
    "print(f\"  x[1]   :{x[1]}\")\n",
    "print(f\"  x[:,-1]:{x[:,-1]}\\n\") #every index on the same level, so -1 is 27 of row 0 and 2187 of row 1\n",
    "\n",
    "print(\"  REGULAR PYTHON::\")\n",
    "x = x.tolist()\n",
    "print(f\"  x:\\n{x}\\n\")\n",
    "print(f\"  x[0][0] :{x[0][0]}\")\n",
    "print(f\"  x[1][2] :{x[1][2]}\")\n",
    "print(f\"  x[1][:] :{x[1][:]}\") \n",
    "print(f\"  x[1]    :{x[1]}\")\n",
    "print(f\"  x[:][-1]:{x[:][-1]}\")       # SEEMINGLY WRONG RESULT!!!! What's going on?"
   ]
  },
  {
   "cell_type": "code",
   "execution_count": 9,
   "metadata": {
    "trusted": true
   },
   "outputs": [
    {
     "name": "stdout",
     "output_type": "stream",
     "text": [
      "  x[:]   : [[1, 3, 9, 27], [81, 243, 729, 2187]]\n",
      "  len(x) : 2\n",
      "  y[-1]  : [81, 243, 729, 2187]\n",
      "  res    : [27, 2187]\n"
     ]
    }
   ],
   "source": [
    "# Explanation (i.e. Under the Hood)\n",
    "print(f\"  x[:]   : {x[:]}\")\n",
    "print(f\"  len(x) : {len(x)}\")\n",
    "y = x[:]\n",
    "print(f\"  y[-1]  : {y[-1]}\")\n",
    "\n",
    "# THEREFORE:\n",
    "res =[ item[-1] for item in y]\n",
    "print(f\"  res    : {res}\")"
   ]
  },
  {
   "cell_type": "markdown",
   "metadata": {},
   "source": [
    "<font color=\"green\"><b>NOTE: Numpy slicing has some additional features:</b></font><br>\n",
    " * if #indices < #dim: Assumes ALL of the remaining dimensions\n",
    " * ellipsis: ... : Consider complete dimensions up to the index\n",
    " * axis          : Synonymous for dimension (C style)\n",
    " * index  : lowering of dimensionality -> <b>always COPY</b>\n",
    " * slicing: preserves dimensionality   -> <b>always VIEW</b>"
   ]
  },
  {
   "cell_type": "code",
   "execution_count": 13,
   "metadata": {
    "trusted": true
   },
   "outputs": [
    {
     "name": "stdout",
     "output_type": "stream",
     "text": [
      "  a.shape:(3, 4, 5, 6, 7, 6)\n",
      "  b.shape:(2, 1, 5, 6, 7, 6)\n",
      "  c.shape:(2, 5, 6, 7, 6)\n"
     ]
    }
   ],
   "source": [
    "import numpy.random as rnd\n",
    "rng = rnd.default_rng()\n",
    "a = rng.random((3,4,5,6,7,6))\n",
    "print(f\"  a.shape:{a.shape}\")\n",
    "b = a[0:2,0:1]  # Slice in 2nd dim. ->  preserve dimensionality\n",
    "print(f\"  b.shape:{b.shape}\") \n",
    "c = a[0:2,0]    # Index for 2nd dim. -> lowering dimensionality\n",
    "print(f\"  c.shape:{c.shape}\")"
   ]
  },
  {
   "cell_type": "markdown",
   "metadata": {},
   "source": [
    "### Slicing, indexing: view vs. copy ... CAN BE VERY DANGEROUS"
   ]
  },
  {
   "cell_type": "markdown",
   "metadata": {},
   "source": [
    "#### Slicing"
   ]
  },
  {
   "cell_type": "code",
   "execution_count": 16,
   "metadata": {
    "trusted": true
   },
   "outputs": [
    {
     "name": "stdout",
     "output_type": "stream",
     "text": [
      " a:\n",
      "[[0.39497185 0.39467205 0.58753657 0.61397652 0.97776728]\n",
      " [0.91837007 0.73277734 0.49117623 0.21988534 0.91249527]\n",
      " [0.18159628 0.39406269 0.49808624 0.13611065 0.40054219]\n",
      " [0.42165428 0.50325784 0.39881985 0.9017838  0.70316756]\n",
      " [0.30518907 0.12315186 0.73074078 0.16732842 0.86079582]]\n",
      "\n",
      " b:\n",
      "[[0.9017838  0.70316756]\n",
      " [0.16732842 0.86079582]]\n",
      "\n",
      " b.flags:\n",
      "  C_CONTIGUOUS : False\n",
      "  F_CONTIGUOUS : False\n",
      "  OWNDATA : False\n",
      "  WRITEABLE : True\n",
      "  ALIGNED : True\n",
      "  WRITEBACKIFCOPY : False\n",
      "\n",
      "\n",
      " b:\n",
      "[[0. 0.]\n",
      " [0. 0.]]\n",
      "\n",
      " a:\n",
      "[[0.39497185 0.39467205 0.58753657 0.61397652 0.97776728]\n",
      " [0.91837007 0.73277734 0.49117623 0.21988534 0.91249527]\n",
      " [0.18159628 0.39406269 0.49808624 0.13611065 0.40054219]\n",
      " [0.42165428 0.50325784 0.39881985 0.         0.        ]\n",
      " [0.30518907 0.12315186 0.73074078 0.         0.        ]]\n",
      "\n"
     ]
    }
   ],
   "source": [
    "rng = rnd.default_rng()\n",
    "a = rng.random((5,5))\n",
    "print(f\" a:\\n{a}\\n\")\n",
    "\n",
    "# B is a slice of A => VIEW\n",
    "b = a[3:5,3:5]\n",
    "print(f\" b:\\n{b}\\n\")\n",
    "print(f\" b.flags:\\n{b.flags}\\n\")\n",
    "\n",
    "#Modifying B:\n",
    "b[:,:]=0.0\n",
    "print(f\" b:\\n{b}\\n\")\n",
    "print(f\" a:\\n{a}\\n\") #B IS A VIEW OF A, BUT IF YOU CHANGE B, YOU CHANGE A"
   ]
  },
  {
   "cell_type": "markdown",
   "metadata": {},
   "source": [
    "#### Working on copy of a slice"
   ]
  },
  {
   "cell_type": "code",
   "execution_count": 17,
   "metadata": {
    "trusted": true
   },
   "outputs": [
    {
     "name": "stdout",
     "output_type": "stream",
     "text": [
      " a:\n",
      "[[0.14511852 0.70275337 0.56865526 0.76645979 0.03553789]\n",
      " [0.73297569 0.41933575 0.61283872 0.43377865 0.78426342]\n",
      " [0.05394704 0.03785699 0.59518597 0.62637715 0.52611771]\n",
      " [0.26608797 0.61197496 0.82854987 0.27726805 0.18266897]\n",
      " [0.61474833 0.55071974 0.57899086 0.06819028 0.44348465]]\n",
      "\n",
      " c:\n",
      "[[0.27726805 0.18266897]\n",
      " [0.06819028 0.44348465]]\n",
      "\n",
      " c.flags:\n",
      "  C_CONTIGUOUS : True\n",
      "  F_CONTIGUOUS : False\n",
      "  OWNDATA : True\n",
      "  WRITEABLE : True\n",
      "  ALIGNED : True\n",
      "  WRITEBACKIFCOPY : False\n",
      "\n",
      "\n",
      " c:\n",
      "[[-1. -1.]\n",
      " [-1. -1.]]\n",
      "\n",
      " a:\n",
      "[[0.14511852 0.70275337 0.56865526 0.76645979 0.03553789]\n",
      " [0.73297569 0.41933575 0.61283872 0.43377865 0.78426342]\n",
      " [0.05394704 0.03785699 0.59518597 0.62637715 0.52611771]\n",
      " [0.26608797 0.61197496 0.82854987 0.27726805 0.18266897]\n",
      " [0.61474833 0.55071974 0.57899086 0.06819028 0.44348465]]\n",
      "\n"
     ]
    }
   ],
   "source": [
    "rng = rnd.default_rng()\n",
    "a = rng.random((5,5))\n",
    "print(f\" a:\\n{a}\\n\")\n",
    "\n",
    "# C is NOT a view BUT a copy\n",
    "c = a[3:5,3:5].copy()\n",
    "print(f\" c:\\n{c}\\n\")\n",
    "print(f\" c.flags:\\n{c.flags}\\n\")\n",
    "\n",
    "# Modifying C:\n",
    "c[:,:] = -1.0\n",
    "print(f\" c:\\n{c}\\n\")\n",
    "print(f\" a:\\n{a}\\n\")"
   ]
  },
  {
   "cell_type": "markdown",
   "metadata": {},
   "source": [
    "#### Example of indexing"
   ]
  },
  {
   "cell_type": "code",
   "execution_count": 18,
   "metadata": {
    "trusted": true
   },
   "outputs": [
    {
     "name": "stdout",
     "output_type": "stream",
     "text": [
      " a:\n",
      "[[0.57062897 0.27873258 0.66364869 0.46116946 0.58319876]\n",
      " [0.39727464 0.33685288 0.04818057 0.17873137 0.58600259]\n",
      " [0.36450974 0.85954091 0.4205561  0.46383611 0.16179506]\n",
      " [0.60297224 0.64212216 0.12827943 0.29084815 0.48439353]\n",
      " [0.59069521 0.4425732  0.58312385 0.15561634 0.45743009]]\n",
      "\n",
      " d:\n",
      "0.048180572111493625\n",
      "\n",
      " d.flags:\n",
      "  C_CONTIGUOUS : True\n",
      "  F_CONTIGUOUS : True\n",
      "  OWNDATA : True\n",
      "  WRITEABLE : False\n",
      "  ALIGNED : True\n",
      "  WRITEBACKIFCOPY : False\n",
      "\n",
      "\n"
     ]
    }
   ],
   "source": [
    "# D is obtained by pure indexing\n",
    "rng = rnd.default_rng()\n",
    "a = rng.random((5,5))\n",
    "print(f\" a:\\n{a}\\n\")\n",
    "\n",
    "d = a[1,2]\n",
    "print(f\" d:\\n{d}\\n\")\n",
    "print(f\" d.flags:\\n{d.flags}\\n\")"
   ]
  },
  {
   "cell_type": "markdown",
   "metadata": {},
   "source": [
    "### What about reshaping? THIS TRIES TO AVOID COPYING"
   ]
  },
  {
   "cell_type": "markdown",
   "metadata": {},
   "source": [
    "<i>From the Numpy manual</i>:<br>\n",
    "It is <b>not always</b> possible to change the shape of an array without copying the data.\n"
   ]
  },
  {
   "cell_type": "markdown",
   "metadata": {},
   "source": [
    "#### Example of reshaping without copying"
   ]
  },
  {
   "cell_type": "code",
   "execution_count": 19,
   "metadata": {
    "trusted": true
   },
   "outputs": [
    {
     "name": "stdout",
     "output_type": "stream",
     "text": [
      " x (Orig.):\n",
      "[[0.50274536 0.54494148 0.41301954 0.10363977 0.37904033 0.90458993]\n",
      " [0.72606968 0.47297532 0.40923478 0.57471995 0.67537836 0.47088175]\n",
      " [0.18723036 0.22006276 0.77072248 0.17541586 0.640033   0.3976564 ]\n",
      " [0.97290597 0.25655586 0.34737966 0.72573777 0.1682953  0.55500423]]\n",
      "\n",
      " x.flags:\n",
      "  C_CONTIGUOUS : True\n",
      "  F_CONTIGUOUS : False\n",
      "  OWNDATA : True\n",
      "  WRITEABLE : True\n",
      "  ALIGNED : True\n",
      "  WRITEBACKIFCOPY : False\n",
      "\n",
      "\n",
      " x (After Reshaping):\n",
      "[[0.50274536 0.54494148 0.41301954 0.10363977]\n",
      " [0.37904033 0.90458993 0.72606968 0.47297532]\n",
      " [0.40923478 0.57471995 0.67537836 0.47088175]\n",
      " [0.18723036 0.22006276 0.77072248 0.17541586]\n",
      " [0.640033   0.3976564  0.97290597 0.25655586]\n",
      " [0.34737966 0.72573777 0.1682953  0.55500423]]\n",
      "\n",
      " x.flags:\n",
      "  C_CONTIGUOUS : True\n",
      "  F_CONTIGUOUS : False\n",
      "  OWNDATA : False\n",
      "  WRITEABLE : True\n",
      "  ALIGNED : True\n",
      "  WRITEBACKIFCOPY : False\n",
      "\n"
     ]
    }
   ],
   "source": [
    "# Default Memory layout is C\n",
    "rng = rnd.default_rng()\n",
    "x = rng.random((4,6))\n",
    "print(f\" x (Orig.):\\n{x}\\n\")\n",
    "print(f\" x.flags:\\n{x.flags}\\n\")\n",
    "y=x.reshape((6,4))\n",
    "print(f\" x (After Reshaping):\\n{y}\\n\")\n",
    "print(f\" x.flags:\\n{y.flags}\")"
   ]
  },
  {
   "cell_type": "markdown",
   "metadata": {},
   "source": [
    "#### More problematic case"
   ]
  },
  {
   "cell_type": "markdown",
   "metadata": {},
   "source": [
    "Note:<br>\n",
    "We can create a view on an ndarray using the view method (vide infra)"
   ]
  },
  {
   "cell_type": "code",
   "execution_count": 20,
   "metadata": {
    "trusted": true
   },
   "outputs": [
    {
     "name": "stdout",
     "output_type": "stream",
     "text": [
      " a:\n",
      "[[0.88550608 0.00784365 0.73102171 0.4399604  0.14555867 0.7222607 ]\n",
      " [0.76550077 0.09026784 0.3125669  0.57046402 0.0041406  0.68937368]\n",
      " [0.7001744  0.79215228 0.6419293  0.86015017 0.56893611 0.97724453]\n",
      " [0.03501813 0.81694633 0.5120587  0.45001934 0.81905904 0.51670102]]\n",
      "\n",
      " a.flags:\n",
      "  C_CONTIGUOUS : True\n",
      "  F_CONTIGUOUS : False\n",
      "  OWNDATA : True\n",
      "  WRITEABLE : True\n",
      "  ALIGNED : True\n",
      "  WRITEBACKIFCOPY : False\n",
      "\n"
     ]
    }
   ],
   "source": [
    "# Create a rdn matrix A\n",
    "rng = rnd.default_rng()\n",
    "a = rng.random((4,6))\n",
    "print(f\" a:\\n{a}\\n\")\n",
    "print(f\" a.flags:\\n{a.flags}\")"
   ]
  },
  {
   "cell_type": "code",
   "execution_count": 21,
   "metadata": {
    "trusted": true
   },
   "outputs": [
    {
     "name": "stdout",
     "output_type": "stream",
     "text": [
      " b:\n",
      "[[0.88550608 0.76550077 0.7001744  0.03501813]\n",
      " [0.00784365 0.09026784 0.79215228 0.81694633]\n",
      " [0.73102171 0.3125669  0.6419293  0.5120587 ]\n",
      " [0.4399604  0.57046402 0.86015017 0.45001934]\n",
      " [0.14555867 0.0041406  0.56893611 0.81905904]\n",
      " [0.7222607  0.68937368 0.97724453 0.51670102]]\n",
      "\n",
      " b.flags:\n",
      "  C_CONTIGUOUS : False\n",
      "  F_CONTIGUOUS : True\n",
      "  OWNDATA : False\n",
      "  WRITEABLE : True\n",
      "  ALIGNED : True\n",
      "  WRITEBACKIFCOPY : False\n",
      "\n"
     ]
    }
   ],
   "source": [
    "b = a.T\n",
    "print(f\" b:\\n{b}\\n\")\n",
    "print(f\" b.flags:\\n{b.flags}\")"
   ]
  },
  {
   "cell_type": "code",
   "execution_count": 22,
   "metadata": {
    "scrolled": true,
    "trusted": true
   },
   "outputs": [
    {
     "name": "stdout",
     "output_type": "stream",
     "text": [
      " c:\n",
      "[[0.88550608 0.76550077 0.7001744  0.03501813]\n",
      " [0.00784365 0.09026784 0.79215228 0.81694633]\n",
      " [0.73102171 0.3125669  0.6419293  0.5120587 ]\n",
      " [0.4399604  0.57046402 0.86015017 0.45001934]\n",
      " [0.14555867 0.0041406  0.56893611 0.81905904]\n",
      " [0.7222607  0.68937368 0.97724453 0.51670102]]\n",
      "\n",
      " c.flags:\n",
      "  C_CONTIGUOUS : False\n",
      "  F_CONTIGUOUS : True\n",
      "  OWNDATA : False\n",
      "  WRITEABLE : True\n",
      "  ALIGNED : True\n",
      "  WRITEBACKIFCOPY : False\n",
      "\n"
     ]
    }
   ],
   "source": [
    "# We FORCE to be a view on b\n",
    "c = b.view()\n",
    "print(f\" c:\\n{c}\\n\")\n",
    "print(f\" c.flags:\\n{c.flags}\")"
   ]
  },
  {
   "cell_type": "code",
   "execution_count": 23,
   "metadata": {
    "trusted": true
   },
   "outputs": [
    {
     "ename": "AttributeError",
     "evalue": "Incompatible shape for in-place modification. Use `.reshape()` to make a copy with the desired shape.",
     "output_type": "error",
     "traceback": [
      "\u001b[0;31m---------------------------------------------------------------------------\u001b[0m",
      "\u001b[0;31mAttributeError\u001b[0m                            Traceback (most recent call last)",
      "Cell \u001b[0;32mIn[23], line 3\u001b[0m\n\u001b[1;32m      1\u001b[0m \u001b[38;5;66;03m# Force c to reshape to a. \u001b[39;00m\n\u001b[1;32m      2\u001b[0m \u001b[38;5;66;03m# This requires a copy (can't because it is a VIEW) => Error\u001b[39;00m\n\u001b[0;32m----> 3\u001b[0m \u001b[43mc\u001b[49m\u001b[38;5;241;43m.\u001b[39;49m\u001b[43mshape\u001b[49m\u001b[38;5;241m=\u001b[39m(\u001b[38;5;241m4\u001b[39m,\u001b[38;5;241m6\u001b[39m)\n",
      "\u001b[0;31mAttributeError\u001b[0m: Incompatible shape for in-place modification. Use `.reshape()` to make a copy with the desired shape."
     ]
    }
   ],
   "source": [
    "# Force c to reshape to a. \n",
    "# This requires a copy (can't because it is a VIEW) => Error\n",
    "c.shape=(4,6)"
   ]
  },
  {
   "cell_type": "markdown",
   "metadata": {},
   "source": [
    "## Exercises"
   ]
  },
  {
   "cell_type": "markdown",
   "metadata": {},
   "source": [
    "* <b>Exercise 3.1</b>: \n",
    "  * Generate the following $2D$ matrix A:<br>\n",
    "    $$\\begin{bmatrix}\n",
    "      1 & 2 & 3 & 4 & 5  & 6\\\\\n",
    "      7 & 8 & 9 & 10 & 11 & 12\\\\ \n",
    "      13 & 14 & 15 & 16 & 17 & 18 \\\\\n",
    "      19 & 20 & 21 & 22 & 23 & 24\\\\\n",
    "      25 & 26 & 27 & 28 & 29 & 30\n",
    "      \\end{bmatrix}$$\n",
    "  * Extract the following $2D$ matrix B from A:<br>\n",
    "    $$\\begin{bmatrix}\n",
    "       1 & 3 \\\\\n",
    "       7 & 9 \\\\\n",
    "      13 & 15 \\\\\n",
    "      19 & 21 \\\\\n",
    "      25 & 27\n",
    "      \\end{bmatrix}$$\n",
    "  * Extract the following $1D$ vector C from A:<br>\n",
    "    $$\\begin{bmatrix}\n",
    "      8 & 10 & 12\n",
    "      \\end{bmatrix}$$ \n",
    "  * Could you extract the same object as a $2D$ matrix?  \n",
    "  * Extract the following $2D$ matrix E from A:<br>\n",
    "    $$\\begin{bmatrix}\n",
    "      2 & 5 \\\\\n",
    "      20 & 23\n",
    "      \\end{bmatrix}$$\n",
    "* <b>Exercise 3.2</b>:\n",
    "  * Create a random matrix (7x7) with values $[0.0,1.0)$:<br>\n",
    "    Replace the core 3x3 matrix of the above matrix with ones.<br>\n",
    "    (Hint: use the np.random.random function to create the matrix)\n",
    "* <b>Exercise 3.3</b>:\n",
    "  * Create the following (8x8) checkerboard containing 0 and 1's (type integer) in 2 different ways:\n",
    "    $$\\begin{bmatrix}\n",
    "      0 & 1 & 0 & 1 &  0 & 1 & 0 & 1\\\\\n",
    "      1 & 0 & 1 &  0 & 1 & 0 & 1 & 0\\\\\n",
    "      0 & 1 & 0 & 1 &  0 & 1 & 0 & 1\\\\\n",
    "      1 & 0 & 1 &  0 & 1 & 0 & 1 & 0\\\\\n",
    "      0 & 1 & 0 & 1 &  0 & 1 & 0 & 1\\\\\n",
    "      1 & 0 & 1 &  0 & 1 & 0 & 1 & 0\\\\\n",
    "      0 & 1 & 0 & 1 &  0 & 1 & 0 & 1 \\\\\n",
    "      1 & 0 & 1 &  0 & 1 & 0 & 1 & 0\n",
    "      \\end{bmatrix}$$\n",
    "    * ONLY using slicing\n",
    "    * using the numpy np.tile function (use help to find the syntax)"
   ]
  },
  {
   "cell_type": "markdown",
   "metadata": {},
   "source": [
    "## Solutions"
   ]
  },
  {
   "cell_type": "code",
   "execution_count": 3,
   "metadata": {
    "trusted": false
   },
   "outputs": [
    {
     "name": "stdout",
     "output_type": "stream",
     "text": [
      "[[ 1  2  3  4  5  6]\n",
      " [ 7  8  9 10 11 12]\n",
      " [13 14 15 16 17 18]\n",
      " [19 20 21 22 23 24]\n",
      " [25 26 27 28 29 30]]\n"
     ]
    }
   ],
   "source": [
    "# %load ../solutions/ex3.py\n",
    "#exercise 3.1\n",
    "A = np.arange(1,31).reshape((5,6))\n",
    "print(A)"
   ]
  },
  {
   "cell_type": "code",
   "execution_count": 6,
   "metadata": {},
   "outputs": [
    {
     "data": {
      "text/plain": [
       "array([[ 1,  3],\n",
       "       [ 7,  9],\n",
       "       [13, 15],\n",
       "       [19, 21],\n",
       "       [25, 27]])"
      ]
     },
     "execution_count": 6,
     "metadata": {},
     "output_type": "execute_result"
    }
   ],
   "source": [
    "A[:,0:3:2]"
   ]
  },
  {
   "cell_type": "code",
   "execution_count": 7,
   "metadata": {},
   "outputs": [
    {
     "data": {
      "text/plain": [
       "array([ 8, 10, 12])"
      ]
     },
     "execution_count": 7,
     "metadata": {},
     "output_type": "execute_result"
    }
   ],
   "source": [
    "A[1,1::2]"
   ]
  },
  {
   "cell_type": "code",
   "execution_count": 8,
   "metadata": {},
   "outputs": [
    {
     "data": {
      "text/plain": [
       "array([[ 8, 10, 12]])"
      ]
     },
     "execution_count": 8,
     "metadata": {},
     "output_type": "execute_result"
    }
   ],
   "source": [
    "A[1:2,1::2]"
   ]
  },
  {
   "cell_type": "code",
   "execution_count": 13,
   "metadata": {},
   "outputs": [
    {
     "data": {
      "text/plain": [
       "array([[ 2,  5],\n",
       "       [20, 23]])"
      ]
     },
     "execution_count": 13,
     "metadata": {},
     "output_type": "execute_result"
    }
   ],
   "source": [
    "A[0::3,1::3]"
   ]
  },
  {
   "cell_type": "code",
   "execution_count": null,
   "metadata": {},
   "outputs": [],
   "source": []
  }
 ],
 "metadata": {
  "kernelspec": {
   "display_name": "Python 3",
   "language": "python",
   "name": "python3"
  },
  "language_info": {
   "codemirror_mode": {
    "name": "ipython",
    "version": 3
   },
   "file_extension": ".py",
   "mimetype": "text/x-python",
   "name": "python",
   "nbconvert_exporter": "python",
   "pygments_lexer": "ipython3",
   "version": "3.9.6"
  }
 },
 "nbformat": 4,
 "nbformat_minor": 4
}
